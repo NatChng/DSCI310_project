{
 "cells": [
  {
   "cell_type": "markdown",
   "id": "88c768d3-d635-4b56-89f9-0fff2e846477",
   "metadata": {},
   "source": [
    "# Test Notebook\n",
    "\n",
    "## Test\n"
   ]
  },
  {
   "cell_type": "code",
   "execution_count": null,
   "id": "8aacf02e-b684-4ca0-ae33-ff4a206eb992",
   "metadata": {},
   "outputs": [],
   "source": []
  }
 ],
 "metadata": {
  "kernelspec": {
   "display_name": "R",
   "language": "R",
   "name": "ir"
  },
  "language_info": {
   "codemirror_mode": "r",
   "file_extension": ".r",
   "mimetype": "text/x-r-source",
   "name": "R",
   "pygments_lexer": "r",
   "version": "4.2.3"
  }
 },
 "nbformat": 4,
 "nbformat_minor": 5
}
