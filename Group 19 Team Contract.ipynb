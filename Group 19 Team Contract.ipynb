{
 "cells": [
  {
   "cell_type": "markdown",
   "id": "88c768d3-d635-4b56-89f9-0fff2e846477",
   "metadata": {},
   "source": [
    "# Group 19 Team Contract"
   ]
  },
  {
   "cell_type": "markdown",
   "id": "a52b4f50-6aad-4a7e-ae5e-3e35103c20bb",
   "metadata": {},
   "source": [
    "## 1. Goals\n",
    "**What are our team goals for this project?**\n",
    "- Work hard and communicate with one another\n",
    "- Ask questions and learn from each other\n",
    "\n",
    "**What do we want to accomplish?**\n",
    "- Achieve all project criteria (meet the expectations)\n",
    "- A+ Grade\n",
    "- High quality enough to be proud of it\n",
    "\n",
    "**What skills do we want to develop or refine?**\n",
    "- Exploratory Data Analysis\n",
    "    - Heatmaps in R\n",
    "    - R Markdown\n",
    "    - Applying Regression/Classification depending on the context of the\n",
    "studies\n",
    "    - Make a pipeline if applicable\n",
    "- Using Git\n",
    "- Using R to make real-world analysis\n",
    "\n",
    "**Expectations:**\n",
    "- Meeting/Messaging/Calling once a week to update the work that has been\n",
    "done\n",
    "- Meeting all deadlines, preferably a day before.\n",
    "\n",
    "**What do we expect of one another regarding attendance at meetings, participation, frquency of communication, quality of work, etc.?**\n",
    "- If someone can’t meet with the group, contact through other means\n",
    "- Have all work completed before meetings\n",
    "- Respond to the GC within 48hrs (even a “currently busy will reply later” is\n",
    "fine)\n",
    "- Quality of work: easy to interpret and readable (check the writing before\n",
    "submitting)"
   ]
  },
  {
   "cell_type": "markdown",
   "id": "cde97620-a466-466f-8101-07ae2d3b723e",
   "metadata": {},
   "source": [
    "## 2. Policies & Procedures\n",
    "**What rules and procedures can we agree on to help us meet our goals and\n",
    "expectations and deal with members who do not fulfill their part in the contract?**\n",
    "- Talk to the person and see the circumstances they are in\n",
    "- What changes can be done from the individual to help everyone meet their goals\n",
    "- If it still persists, discuss it with the TA or Professor"
   ]
  },
  {
   "cell_type": "markdown",
   "id": "050792b3-b31b-4bbe-b702-0794357d5f4b",
   "metadata": {},
   "source": [
    "## 3. Consequences\n",
    "**How will we address non-performance regarding these goals, expectations, policies, and procedures?**\n",
    "- If non-performance persists, it will be fairly noted in the team evaluation\n",
    "\n",
    "**Signed Group Member Names:**\n",
    "- Andy Hong\n",
    "- Dakshish Raj Paulvannan\n",
    "- Nathan Chang\n",
    "- Benedictus Harley Kartawidjaja "
   ]
  }
 ],
 "metadata": {
  "kernelspec": {
   "display_name": "R",
   "language": "R",
   "name": "ir"
  },
  "language_info": {
   "codemirror_mode": "r",
   "file_extension": ".r",
   "mimetype": "text/x-r-source",
   "name": "R",
   "pygments_lexer": "r",
   "version": "4.2.3"
  }
 },
 "nbformat": 4,
 "nbformat_minor": 5
}
