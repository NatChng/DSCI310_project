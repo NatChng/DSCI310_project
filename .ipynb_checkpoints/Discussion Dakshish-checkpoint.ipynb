{
 "cells": [
  {
   "cell_type": "markdown",
   "id": "dec1fe8d-8033-4c50-890d-cc28ced032e0",
   "metadata": {},
   "source": [
    "# **Discussion**"
   ]
  },
  {
   "cell_type": "markdown",
   "id": "d1f9aede-4b6f-4a11-bc46-5a4f96cd68ca",
   "metadata": {},
   "source": [
    "## Summary of Findings\n",
    "\n",
    "The primary goal of our analysis is to analyze potential predictors to determine the odds of an employee staying or leaving a company. Using logistic regression with LASSO regularization, we have identified 5 significant predictors: Education, PaymentTier, City, Age, and Everbenched."
   ]
  },
  {
   "cell_type": "markdown",
   "id": "44e734e1-887e-415b-ae46-daea1c8d35d5",
   "metadata": {
    "tags": []
   },
   "source": [
    "## Key Findings\n",
    "\n",
    "1. **Education**: Having a higher education level such as having Masters has an impact on employee retention. Employees with higher education levels have a higher turnover rate. This might be due employees having greater job mobility and higher demand compared to employees with just a Bachelors. These employyees also have higher expectations for career progressions and if the compay is unable to provide that, the employees are likely to leave.\n",
    "\n",
    "2. **City**: Location influences employee retention. However, an interesting find is that employees are significantly more likely to leave their job in a city like Pune compared to New Delhi. This could be explained by further research on the two cities. New Delhi tends to have jobs with higher salaries as they are a major economic hub in India. New Delhi also tends to have a higher cost of living, disincentivizing the employees from leaving their jobs.\n",
    "\n",
    "3. **PaymentTier**: Employees in higher payment tiers are significantly less likely to leave the company. This aligns with the common understanding that better compensation incentivizes employees to remain at the company, increasing retention. Higher pay also leads to greater job satisfaction as employees will feel adequately rewarded for their skills.\n",
    "\n",
    "4. **Age**: Older employees are more likely to remain at the company. Shapiro et al. (2022) investigates how years of service influence retention rates, noting that younger employees get burnout more easily, causing them to have a higher probability of leaving. Younger employees also tend to have fewer responsibilities and are more adventurous, allowing them more freedom to leave their current job.\n",
    "\n",
    "5. **EverBenchedYes**: Employees who have experienced being benched (period of time without work assigned to them) are significantly more likely to leave. Extended periods without work can create uncertainty about job security as they definitely will feel undervalued. There will also be skill stagnation and they will find it difficult to progress through the company, further incentivizing them to leave and find a job elsewhere,"
   ]
  },
  {
   "cell_type": "markdown",
   "id": "aeacdbe7-b832-412d-86c9-9f3c68c75d61",
   "metadata": {},
   "source": [
    "## Implications & Impact\n",
    "\n",
    "The results of this analysis provided valuable insights for the company's Human Resources department. By understanding the factors that significantly contribute to the retention of the employees, the company can develop targeted strategies to improve retention. For example:\n",
    "\n",
    "- **Enhance employee compensation packages**: By improving the salary structures, especially for lower payment tiers, could help reduce turnover. The company should also give bonuses to employees with better education such as having a Master's, incentivising these employees to stay in the company and contribute with their superior knowledge.\n",
    "\n",
    "- **Career development and progression opportunities**: Offering training and development programs for employees, particularly those with higher education, could keep them engaged and reduce the likelihood of them leaving. Ensuring a clear path for progression, such as guaranteed promotion after a set period of time or completed work will also incentivize employees to stay. \n",
    "\n",
    "- **Location**: The company may consider focusing its operations in a city like New Delhi instead of Pune where the retention rate is significantly higher in New Delhi compared to Pune. New Delhi has a sizeable population of employees, thus shutting down their operations in Pune and focusing their operations in New Delhi may have positive benefits to the company as they can spend less resources to hire and train new employees than they would have to do in Pune.\n",
    "\n",
    "- **Workload**: The company should ensure that every employee has consistent work assignments as being benched can be devastating to employees. However, the company should also ensure that their employees aren't receiving an extremely heavy workload as the employees may be burnout, especially the younger employees who are still adjusting to working life in the company."
   ]
  },
  {
   "cell_type": "markdown",
   "id": "3a290da9-1ed4-4e60-857d-e493a215e0c0",
   "metadata": {},
   "source": [
    "## Expectations vs Results\n",
    "\n",
    "Based on existing literature and standard HR practices, the results largely aligned with our expectations. It is expected that higher payment tiers, continuous work assignments and being older would correlate with a lower turnover rate. We also knew from the heatmap that the covariates are not correlated. As the tidy model shows that some of the covariates are positive and others are negative, we know multicollinearity is not an issue and confirms the results of the heatmap. \n",
    "\n",
    "However, the level of impact of location (City) on retention rate was much more significant than expected, suggesting regional factors play a more crucial role in employee retention than initially anticipated. We also expected PaymentTier to have an even more substantial effect and EverBenchedYes to have a lower effect than shown in the tidy model. A higher accuracy of the model was expected."
   ]
  },
  {
   "cell_type": "markdown",
   "id": "677b56aa-ecdc-4b64-8058-f5b03956e1ed",
   "metadata": {},
   "source": [
    "## Model Improvements\n",
    "\n",
    "While the logistic regression model with LASSO regularization was able to provide valuable insights, there are several ways it could be improved:\n",
    "\n",
    "**Inclusion of More Predictors**\n",
    "Incorporating additional predictors can enhance the model's comprehensiveness and predictive power. Potential additional predictors include:\n",
    "- **Job Role**: Different roles may have varying turnover rates due to differences in job satisfaction, career progression opportunities, and market demand.\n",
    "- **Performance Metrics**: Employee performance scores, such as annual reviews or key performance indicators (KPIs), can provide insights into employee satisfaction and engagement.\n",
    "- **Employee Engagement Scores**: Data from employee engagement surveys can offer valuable information on employees' feelings about their work environment, management, and job satisfaction.\n",
    "- **Work-Life Balance**: Metrics or survey data related to work-life balance can help identify if employees are leaving due to burnout or work-related stress.\n",
    "- **Commute Time**: The time it takes for employees to commute to work might influence their decision to stay or leave, particularly in locations with heavy traffic or inadequate public transport.\n",
    "\n",
    "**Advanced Models**\n",
    "Exploring more sophisticated models can improve predictive performance and provide deeper insights:\n",
    "- **Random Forest**: An ensemble learning method that can capture non-linear relationships and interactions between predictors.\n",
    "- **Neural Networks**: Deep learning models that can capture complex patterns in the data, especially useful for large datasets with many predictors."
   ]
  },
  {
   "cell_type": "markdown",
   "id": "bd9b62c9-ad49-4338-8509-1f8a4f057b09",
   "metadata": {},
   "source": [
    "## Future Questions & Research\n",
    "\n",
    "The findings from this study open up several avenues for future research, each aiming to deepen the understanding of employee turnover and develop more effective retention strategies. Some potential questions and research directions include:\n",
    "\n",
    "- How does organizational and work culture influence employee retention? Future research could explore the specific aspects of organizational culture that contribute to higher or lower retention rates. This might include factors such as leadership styles, communication patterns, and the alignment of organizational values with employee values.\n",
    "\n",
    "- How do career development opportunities affect employee retention? Research could focus on the relationship between career development programs (training, mentorship, and promotion opportunities) and employee retention rates.\n",
    "\n",
    "- How does work-life balance influence employee retention? Studies could examine how different work-life balance policies, such as flexible working hours, remote work options, and vacation policies, impact retention rates.\n",
    "\n",
    "- How do diversity and inclusion (D&I) initiatives affect employee retention? Studies could examine the effectiveness of D&I initiatives in reducing turnover, particularly among underrepresented groups. Identifying the D&I practices that most positively impact retention can help organizations design more effective D&I strategies.\n",
    "\n",
    "- How do employee retention patterns differ across countries and cultures? Comparative studies across different geographic regions and cultures can reveal unique turnover patterns and inform globally applicable retention strategies. Understanding the cultural nuances affecting retention can help multinational organizations tailor their retention strategies to different cultural contexts."
   ]
  },
  {
   "cell_type": "code",
   "execution_count": null,
   "id": "34fe5f3c-e40b-4e42-b24a-39012e211885",
   "metadata": {},
   "outputs": [],
   "source": []
  }
 ],
 "metadata": {
  "kernelspec": {
   "display_name": "R",
   "language": "R",
   "name": "ir"
  },
  "language_info": {
   "codemirror_mode": "r",
   "file_extension": ".r",
   "mimetype": "text/x-r-source",
   "name": "R",
   "pygments_lexer": "r",
   "version": "4.2.3"
  }
 },
 "nbformat": 4,
 "nbformat_minor": 5
}
