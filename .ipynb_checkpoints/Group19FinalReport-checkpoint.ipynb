{
 "cells": [
  {
   "cell_type": "markdown",
   "id": "02f98110-6fda-48dd-b43c-1482af6cc8aa",
   "metadata": {},
   "source": [
    "# STAT301 Final Report: Group 19 "
   ]
  },
  {
   "cell_type": "code",
   "execution_count": null,
   "id": "3426c8cd-3301-4e63-a542-7509dbe3c4a7",
   "metadata": {},
   "outputs": [],
   "source": []
  }
 ],
 "metadata": {
  "kernelspec": {
   "display_name": "R",
   "language": "R",
   "name": "ir"
  },
  "language_info": {
   "codemirror_mode": "r",
   "file_extension": ".r",
   "mimetype": "text/x-r-source",
   "name": "R",
   "pygments_lexer": "r",
   "version": "4.2.3"
  }
 },
 "nbformat": 4,
 "nbformat_minor": 5
}
